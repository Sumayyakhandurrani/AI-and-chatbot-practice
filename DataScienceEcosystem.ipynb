{
  "nbformat": 4,
  "nbformat_minor": 0,
  "metadata": {
    "colab": {
      "provenance": [],
      "authorship_tag": "ABX9TyOtPStpO64OmhQ3IbsgxD7u",
      "include_colab_link": true
    },
    "kernelspec": {
      "name": "python3",
      "display_name": "Python 3"
    },
    "language_info": {
      "name": "python"
    }
  },
  "cells": [
    {
      "cell_type": "markdown",
      "metadata": {
        "id": "view-in-github",
        "colab_type": "text"
      },
      "source": [
        "<a href=\"https://colab.research.google.com/github/Sumayyakhandurrani/AI-and-chatbot-practice/blob/main/DataScienceEcosystem.ipynb\" target=\"_parent\"><img src=\"https://colab.research.google.com/assets/colab-badge.svg\" alt=\"Open In Colab\"/></a>"
      ]
    },
    {
      "cell_type": "markdown",
      "source": [
        "# Data Science Tools and Ecosystem"
      ],
      "metadata": {
        "id": "dSX9dJ0nUWvF"
      }
    },
    {
      "cell_type": "markdown",
      "source": [
        "# Data Science Tools and Ecosystem"
      ],
      "metadata": {
        "id": "Gvog2-soUiuj"
      }
    },
    {
      "cell_type": "markdown",
      "source": [
        "In this notebook, Data Science Tools and Ecosystem are summarized."
      ],
      "metadata": {
        "id": "DM2rflbpUyUI"
      }
    },
    {
      "cell_type": "markdown",
      "source": [
        "Some of the popular languages that Data Scientists use are:  \n",
        "1. Python  \n",
        "2. R  \n",
        "3. SQL  "
      ],
      "metadata": {
        "id": "aV1dzfUtVAqa"
      }
    },
    {
      "cell_type": "markdown",
      "source": [
        "Some of the commonly used libraries used by Data Scientists include:  \n",
        "1. Pandas  \n",
        "2. NumPy  \n",
        "3. Matplotlib  "
      ],
      "metadata": {
        "id": "pXPgw1DvVHbR"
      }
    },
    {
      "cell_type": "markdown",
      "source": [
        "| Data Science Tools |  \n",
        "|--------------------|  \n",
        "| Jupyter Notebook   |  \n",
        "| RStudio            |  \n",
        "| VS Code            |  "
      ],
      "metadata": {
        "id": "CMerhKcDVSW8"
      }
    },
    {
      "cell_type": "markdown",
      "source": [
        "### Below are a few examples of evaluating arithmetic expressions in Python."
      ],
      "metadata": {
        "id": "gWKG9Na1VVpx"
      }
    },
    {
      "cell_type": "code",
      "source": [
        "\n",
        "(3 * 4) + 5"
      ],
      "metadata": {
        "colab": {
          "base_uri": "https://localhost:8080/"
        },
        "id": "a1FwZnezVicH",
        "outputId": "818bde68-24b2-4652-d1b8-66c99155a35b"
      },
      "execution_count": 4,
      "outputs": [
        {
          "output_type": "execute_result",
          "data": {
            "text/plain": [
              "17"
            ]
          },
          "metadata": {},
          "execution_count": 4
        }
      ]
    },
    {
      "cell_type": "code",
      "source": [
        "\n",
        "200 / 60"
      ],
      "metadata": {
        "colab": {
          "base_uri": "https://localhost:8080/"
        },
        "id": "rcpfbJxgV9Tz",
        "outputId": "8f1b9d74-aec9-4b43-a3ba-95ddf5c11baf"
      },
      "execution_count": 5,
      "outputs": [
        {
          "output_type": "execute_result",
          "data": {
            "text/plain": [
              "3.3333333333333335"
            ]
          },
          "metadata": {},
          "execution_count": 5
        }
      ]
    },
    {
      "cell_type": "markdown",
      "source": [
        "**Objectives:**  \n",
        "- List popular languages for Data Science.  \n",
        "- Identify common libraries used in Data Science.  \n",
        "- Introduce arithmetic operations in Python.  "
      ],
      "metadata": {
        "id": "MWNPzxJhWH91"
      }
    },
    {
      "cell_type": "markdown",
      "source": [
        " Sumayya Khan"
      ],
      "metadata": {
        "id": "Ju-ehHlLWXiW"
      }
    }
  ]
}